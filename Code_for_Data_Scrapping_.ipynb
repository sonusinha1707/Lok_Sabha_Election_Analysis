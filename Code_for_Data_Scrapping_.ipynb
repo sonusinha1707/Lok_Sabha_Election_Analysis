{
 "cells": [
  {
   "cell_type": "code",
   "execution_count": 1,
   "id": "395bbc69-20ab-4a21-9e64-c3cacb259ac3",
   "metadata": {},
   "outputs": [],
   "source": [
    "from selenium import webdriver\n",
    "from selenium.webdriver.common.keys import Keys\n",
    "from selenium.webdriver.common.by import By\n",
    "\n",
    "import pandas as pd\n",
    "import time"
   ]
  },
  {
   "cell_type": "code",
   "execution_count": 2,
   "id": "f802dde0-1761-4c28-83d4-df4faac74fc3",
   "metadata": {},
   "outputs": [],
   "source": [
    "driver = webdriver.Chrome()\n",
    "\n",
    "driver.maximize_window()"
   ]
  },
  {
   "cell_type": "markdown",
   "id": "c1e54068-ac2e-44ae-8a5e-df22197c72f0",
   "metadata": {},
   "source": [
    "### Table 1: Election Details"
   ]
  },
  {
   "cell_type": "code",
   "execution_count": null,
   "id": "92016608-9e1f-4580-9057-b1cb1fc8205b",
   "metadata": {},
   "outputs": [],
   "source": [
    "# url given for the lok sabha election 1977\n",
    "\n",
    "url = \"https://www.indiavotes.com/lok-sabha/1977/all-states/14/0\""
   ]
  },
  {
   "cell_type": "code",
   "execution_count": 4,
   "id": "632f77bd-2582-4af6-b8f5-ded631a0123f",
   "metadata": {},
   "outputs": [],
   "source": [
    "driver.get(url)"
   ]
  },
  {
   "cell_type": "code",
   "execution_count": 5,
   "id": "672333ab-0025-428d-8e29-9feac2ffb0e4",
   "metadata": {},
   "outputs": [],
   "source": [
    "election_year = []\n",
    "pc_name = []\n",
    "pc_no = []\n",
    "type_category = []\n",
    "state = []\n",
    "winning_candidate = []\n",
    "party = []\n",
    "electors = []\n",
    "votes = []\n",
    "turnout = []\n",
    "margin = []\n",
    "margin_percent = []\n"
   ]
  },
  {
   "cell_type": "code",
   "execution_count": 6,
   "id": "1839a105-b1a9-4b87-b653-3ee73adc0ccd",
   "metadata": {},
   "outputs": [],
   "source": [
    "number_constituency = driver.find_elements(By.XPATH ,\"/html/body/div[2]/div[2]/div/div[9]/div/table/tbody/tr/td[1]\")"
   ]
  },
  {
   "cell_type": "code",
   "execution_count": 7,
   "id": "f994bf00-ff1d-4005-b566-f65bce68bb6d",
   "metadata": {},
   "outputs": [
    {
     "data": {
      "text/plain": [
       "543"
      ]
     },
     "execution_count": 7,
     "metadata": {},
     "output_type": "execute_result"
    }
   ],
   "source": [
    "len(number_constituency)"
   ]
  },
  {
   "cell_type": "code",
   "execution_count": 8,
   "id": "843b4301-3266-406e-bbde-1d0f618b4830",
   "metadata": {},
   "outputs": [],
   "source": [
    "# Defining the year range for which we are targeting\n",
    "\n",
    "years_range = [1977, 1980, 1984, 1989, 1991, 1996, 1998, 1999, 2004, 2009, 2014,2019,2024]"
   ]
  },
  {
   "cell_type": "code",
   "execution_count": null,
   "id": "7560e2eb-bcad-4109-a569-02b223f33e38",
   "metadata": {},
   "outputs": [],
   "source": [
    "years_counter = 8\n",
    "for i in range(14,19,1):\n",
    "    url = f\"https://www.indiavotes.com/lok-sabha/1977/all-states/{i}/0\"\n",
    "    driver.get(url)\n",
    "    time.sleep(2)\n",
    "    number_constituency = driver.find_elements(By.XPATH ,\"/html/body/div[2]/div[2]/div/div[9]/div/table/tbody/tr/td[1]\")\n",
    "    for j in range(1,len(number_constituency)+1,1):\n",
    "        try:\n",
    "            election_year.append(years_range[years_counter])\n",
    "        except:\n",
    "            election_year.append(None)\n",
    "\n",
    "        try:\n",
    "            pc_name.append(driver.find_element(By.XPATH,f\"/html/body/div[2]/div[2]/div/div[9]/div/table/tbody/tr[{j}]/td[2]\").text)\n",
    "        except:\n",
    "            pc_name.append(None)\n",
    "\n",
    "        try:\n",
    "            pc_no.append(driver.find_element(By.XPATH,f\"/html/body/div[2]/div[2]/div/div[9]/div/table/tbody/tr[{j}]/td[3]\").text)\n",
    "        except:\n",
    "            pc_no.append(None)\n",
    "\n",
    "        try:\n",
    "            type_category.append(driver.find_element(By.XPATH,f\"/html/body/div[2]/div[2]/div/div[9]/div/table/tbody/tr[{j}]/td[4]\").text)\n",
    "        except:\n",
    "            type_category.append(None)\n",
    "\n",
    "        try:\n",
    "            state.append(driver.find_element(By.XPATH,f\"/html/body/div[2]/div[2]/div/div[9]/div/table/tbody/tr[{j}]/td[5]\").text)\n",
    "        except:\n",
    "            state.append(None)\n",
    "\n",
    "        try:\n",
    "            winning_candidate.append(driver.find_element(By.XPATH,f\"/html/body/div[2]/div[2]/div/div[9]/div/table/tbody/tr[{j}]/td[6]\").text)\n",
    "        except:\n",
    "            winning_candidate.append(None)\n",
    "\n",
    "        try:\n",
    "            party.append(driver.find_element(By.XPATH,f\"/html/body/div[2]/div[2]/div/div[9]/div/table/tbody/tr[{j}]/td[7]\").text)\n",
    "        except:\n",
    "            party.append(None)\n",
    "\n",
    "        try:\n",
    "            electors.append(driver.find_element(By.XPATH,f\"/html/body/div[2]/div[2]/div/div[9]/div/table/tbody/tr[{j}]/td[8]\").text)\n",
    "        except:\n",
    "            electors.append(None)\n",
    "            \n",
    "        try:\n",
    "            votes.append(driver.find_element(By.XPATH,f\"/html/body/div[2]/div[2]/div/div[9]/div/table/tbody/tr[{j}]/td[9]\").text)\n",
    "        except:\n",
    "            votes.append(None)\n",
    "            \n",
    "        try:\n",
    "            turnout.append(driver.find_element(By.XPATH,f\"/html/body/div[2]/div[2]/div/div[9]/div/table/tbody/tr[{j}]/td[10]\").text)\n",
    "        except:\n",
    "            turnout.append(None)\n",
    "            \n",
    "        try:\n",
    "            margin.append(driver.find_element(By.XPATH,f\"/html/body/div[2]/div[2]/div/div[9]/div/table/tbody/tr[{j}]/td[11]\").text)\n",
    "        except:\n",
    "            margin.append(None)\n",
    "            \n",
    "        try:\n",
    "            margin_percent.append(driver.find_element(By.XPATH,f\"/html/body/div[2]/div[2]/div/div[9]/div/table/tbody/tr[{j}]/td[12]\").text)\n",
    "        except:\n",
    "            margin_percent.append(None)\n",
    "\n",
    "        # time.sleep(0.3)\n",
    "            \n",
    "    years_counter+=1                 \n",
    "                                               \n",
    "        \n",
    "\n",
    "    \n",
    "    \n",
    "    "
   ]
  },
  {
   "cell_type": "code",
   "execution_count": null,
   "id": "7e6547ee-b6c3-40f5-8053-762e2720497c",
   "metadata": {},
   "outputs": [],
   "source": [
    "pc_name"
   ]
  },
  {
   "cell_type": "code",
   "execution_count": null,
   "id": "5170d65b-950b-4411-888a-f0419519b997",
   "metadata": {},
   "outputs": [],
   "source": [
    "pc_no"
   ]
  },
  {
   "cell_type": "code",
   "execution_count": null,
   "id": "c9343146-72d2-4ed9-b430-f817b25c8014",
   "metadata": {},
   "outputs": [],
   "source": [
    "election_year"
   ]
  },
  {
   "cell_type": "code",
   "execution_count": null,
   "id": "e37914ac-6ff4-486a-9631-07f366fee0b2",
   "metadata": {},
   "outputs": [],
   "source": [
    "data = {\n",
    "    \"election_year\": election_year,\n",
    "    \"pc_name\": pc_name,\n",
    "    \"pc_no\": pc_no,\n",
    "    \"type_category\": type_category,\n",
    "    \"state\": state,\n",
    "    \"winning_candidate\": winning_candidate,\n",
    "    \"party\": party,\n",
    "    \"electors\": electors,\n",
    "    \"votes\": votes,\n",
    "    \"turnout\": turnout,\n",
    "    \"margin\": margin,\n",
    "    \"margin_percent\": margin_percent\n",
    "}"
   ]
  },
  {
   "cell_type": "code",
   "execution_count": null,
   "id": "9db273cc-7812-4a9b-b0f0-f54889ff9406",
   "metadata": {},
   "outputs": [],
   "source": [
    "data"
   ]
  },
  {
   "cell_type": "code",
   "execution_count": null,
   "id": "71e88c5e-2a90-4ed5-af96-91c877711dca",
   "metadata": {},
   "outputs": [],
   "source": [
    "data = pd.DataFrame(data)"
   ]
  },
  {
   "cell_type": "code",
   "execution_count": null,
   "id": "c16c5062-09c1-4a51-8750-0aab1fc5e619",
   "metadata": {},
   "outputs": [],
   "source": [
    "data"
   ]
  },
  {
   "cell_type": "code",
   "execution_count": null,
   "id": "5c4ab9ce-d973-4ead-b671-eed6db0dc695",
   "metadata": {},
   "outputs": [],
   "source": [
    "data.to_csv('scrapped_dataset_table_1_2nd.csv')"
   ]
  },
  {
   "cell_type": "code",
   "execution_count": null,
   "id": "62292d98-11e7-471d-be5b-009d03a688e0",
   "metadata": {},
   "outputs": [],
   "source": [
    "df = pd.read_csv('scrapped_dataset_table_1_2nd.csv')"
   ]
  },
  {
   "cell_type": "code",
   "execution_count": null,
   "id": "fe605313-b26c-4a6b-86e7-3ef1b5021b11",
   "metadata": {},
   "outputs": [],
   "source": [
    "df['election_year'].value_counts()"
   ]
  },
  {
   "cell_type": "code",
   "execution_count": null,
   "id": "d5c9ef09-ef17-4cb4-9d32-b9688e976ae9",
   "metadata": {},
   "outputs": [],
   "source": [
    "df = pd.read_csv('scrapped_dataset_table_1.csv')\n",
    "\n",
    "df['election_year'].value_counts()"
   ]
  },
  {
   "cell_type": "markdown",
   "id": "12a461f0-e885-4efd-84cf-42f63c859c84",
   "metadata": {},
   "source": [
    "### Table 2: Constituency Details"
   ]
  },
  {
   "cell_type": "code",
   "execution_count": null,
   "id": "012e2b2d-fb6e-492b-b2c0-71d907a85ad9",
   "metadata": {},
   "outputs": [],
   "source": [
    "from selenium.webdriver.support.ui import WebDriverWait\n",
    "from selenium.webdriver.support import expected_conditions as EC"
   ]
  },
  {
   "cell_type": "code",
   "execution_count": null,
   "id": "95326663-f2cc-470e-9774-0f27349b0b61",
   "metadata": {},
   "outputs": [],
   "source": [
    "url = \"https://www.indiavotes.com/lok-sabha/1977/all-states/6/0\""
   ]
  },
  {
   "cell_type": "code",
   "execution_count": null,
   "id": "fe233893-339b-425a-8e53-f3835e7d3558",
   "metadata": {},
   "outputs": [],
   "source": [
    "driver= webdriver.Chrome()\n",
    "driver.maximize_window()"
   ]
  },
  {
   "cell_type": "code",
   "execution_count": null,
   "id": "48f95990-27c1-4aa2-8ec9-89b8acb31d42",
   "metadata": {},
   "outputs": [],
   "source": [
    "driver.get(url)"
   ]
  },
  {
   "cell_type": "code",
   "execution_count": null,
   "id": "45eebb50-76d2-4f54-9456-50daf1f5c181",
   "metadata": {},
   "outputs": [],
   "source": [
    "election_year = []\n",
    "pc_name = []\n",
    "pc_no = []\n",
    "electors = []\n",
    "male_electors = []\n",
    "female_electors = []\n",
    "booths = []\n",
    "votes_polled = []\n",
    "male_voters = []\n",
    "female_voters = []"
   ]
  },
  {
   "cell_type": "code",
   "execution_count": null,
   "id": "abe6d044-3694-433a-a799-ac5a0f1cb41f",
   "metadata": {},
   "outputs": [],
   "source": [
    "# Defining the year range for which we are targeting\n",
    "\n",
    "years_range = [1977, 1980, 1984, 1989, 1991, 1996, 1998, 1999, 2004, 2009, 2014,2019,2024]"
   ]
  },
  {
   "cell_type": "code",
   "execution_count": null,
   "id": "82018542-5158-423c-9051-07052b3db965",
   "metadata": {},
   "outputs": [],
   "source": [
    "years_counter = 10\n",
    "wait = WebDriverWait(driver, 10)  # Set the maximum wait time to 10 seconds\n",
    "\n",
    "for i in range(16, 17, 1):\n",
    "    url = f\"https://www.indiavotes.com/lok-sabha/1977/all-states/{i}/0\"\n",
    "    driver.get(url)\n",
    "    \n",
    "    # Wait for the table rows to load\n",
    "    number_constituency = wait.until(EC.presence_of_all_elements_located((By.XPATH, \"/html/body/div[2]/div[2]/div/div[9]/div/table/tbody/tr/td[1]\")))\n",
    "\n",
    "    for j in range(265, 321, 1):\n",
    "        wait = WebDriverWait(driver, 10)\n",
    "        try:\n",
    "            constituency_link = driver.find_element(By.XPATH, f\"/html/body/div[2]/div[2]/div/div[9]/div/table/tbody/tr[{j}]/td[2]/a\").get_attribute(\"href\")\n",
    "            wait = WebDriverWait(driver, 10)\n",
    "            try:\n",
    "                pc_name.append(driver.find_element(By.XPATH, f\"/html/body/div[2]/div[2]/div/div[9]/div/table/tbody/tr[{j}]/td[2]\").text)\n",
    "                print(driver.find_element(By.XPATH, f\"/html/body/div[2]/div[2]/div/div[9]/div/table/tbody/tr[{j}]/td[2]\").text)\n",
    "            except:\n",
    "                pc_name.append(None)\n",
    "    \n",
    "            try:\n",
    "                pc_no.append(driver.find_element(By.XPATH, f\"/html/body/div[2]/div[2]/div/div[9]/div/table/tbody/tr[{j}]/td[3]\").text)\n",
    "            except:\n",
    "                pc_no.append(None)\n",
    "    \n",
    "            driver.get(constituency_link)\n",
    "\n",
    "            \n",
    "            # Wait for the details to load\n",
    "            wait.until(EC.presence_of_element_located((By.XPATH, \"/html/body/div[2]/div[2]/div/div[5]/ul/li[7]\")))\n",
    "            \n",
    "            try:\n",
    "                election_year.append(years_range[years_counter])\n",
    "            except:\n",
    "                election_year.append(None)\n",
    "\n",
    "\n",
    "            try:\n",
    "                electors.append(driver.find_element(By.XPATH, \"/html/body/div[2]/div[2]/div/div[5]/ul/li[1]\").text)\n",
    "                print(driver.find_element(By.XPATH, \"/html/body/div[2]/div[2]/div/div[5]/ul/li[1]\").text)\n",
    "            except:\n",
    "                electors.append(None)\n",
    "    \n",
    "            try:\n",
    "                male_electors.append(driver.find_element(By.XPATH, \"/html/body/div[2]/div[2]/div/div[5]/ul/li[2]\").text)\n",
    "            except:\n",
    "                male_electors.append(None)\n",
    "    \n",
    "            try:\n",
    "                female_electors.append(driver.find_element(By.XPATH, \"/html/body/div[2]/div[2]/div/div[5]/ul/li[3]\").text)\n",
    "            except:\n",
    "                female_electors.append(None)\n",
    "    \n",
    "            try:\n",
    "                booths.append(driver.find_element(By.XPATH, \"/html/body/div[2]/div[2]/div/div[5]/ul/li[4]\").text)\n",
    "            except:\n",
    "                booths.append(None)\n",
    "    \n",
    "            try:\n",
    "                votes_polled.append(driver.find_element(By.XPATH, \"/html/body/div[2]/div[2]/div/div[5]/ul/li[5]\").text)\n",
    "            except:\n",
    "                votes_polled.append(None)\n",
    "    \n",
    "            try:\n",
    "                male_voters.append(driver.find_element(By.XPATH, \"/html/body/div[2]/div[2]/div/div[5]/ul/li[6]\").text)\n",
    "            except:\n",
    "                male_voters.append(None)\n",
    "    \n",
    "            try:\n",
    "                female_voters.append(driver.find_element(By.XPATH, \"/html/body/div[2]/div[2]/div/div[5]/ul/li[7]\").text)\n",
    "            except:\n",
    "                female_voters.append(None)\n",
    "            time.sleep(3)\n",
    "            driver.back()\n",
    "            time.sleep(1)\n",
    "        except:\n",
    "            continue\n",
    "            \n",
    "        \n",
    "    \n",
    "    years_counter += 1\n"
   ]
  },
  {
   "cell_type": "code",
   "execution_count": null,
   "id": "9492cbb7-4a50-4257-aed9-aec39eee1d87",
   "metadata": {},
   "outputs": [],
   "source": [
    "print(election_year)\n",
    "print(pc_name)\n",
    "print(pc_no)\n",
    "print(electors)\n",
    "print(male_electors)\n",
    "print(female_electors)\n",
    "print(booths)\n",
    "print(votes_polled)\n",
    "print(male_voters)\n",
    "print(female_voters)"
   ]
  },
  {
   "cell_type": "code",
   "execution_count": null,
   "id": "4f91918c-20f5-476f-9c6c-94a7effbbf64",
   "metadata": {},
   "outputs": [],
   "source": [
    "data = {\n",
    "    \"election_year\": election_year,\n",
    "    \"pc_name\": pc_name,\n",
    "    \"pc_no\": pc_no,\n",
    "    \"electors\": electors,\n",
    "    \"male_electors\": male_electors,\n",
    "    \"female_electors\": female_electors,\n",
    "    \"booths\": booths,\n",
    "    \"votes_polled\": votes_polled,\n",
    "    \"male_voters\": male_voters,\n",
    "    \"female_voters\": female_voters\n",
    "}"
   ]
  },
  {
   "cell_type": "code",
   "execution_count": null,
   "id": "98ce00fe-fbb9-46a8-8b98-fbdb12ffa5a5",
   "metadata": {},
   "outputs": [],
   "source": [
    "# Print the length of each list in the dictionary\n",
    "for key, value in data.items():\n",
    "    print(f\"The length of the list for '{key}' is {len(value)}\")\n"
   ]
  },
  {
   "cell_type": "code",
   "execution_count": null,
   "id": "09c96de6-e356-49c5-a56d-2c871f5545ac",
   "metadata": {},
   "outputs": [],
   "source": [
    "# min_length \n",
    "# Find the minimum key length\n",
    "# min_length = min(len(key) for key in data)\n",
    "\n",
    "# # Initialize every key with the minimum length\n",
    "# new_dict = {key: min_length for key in data}\n",
    "\n",
    "min_length = min(len(value) for value in data.values())\n",
    "\n",
    "# Step 2: Truncate all lists to the minimum length\n",
    "truncated_data = {key: value[:min_length] for key, value in data.items()}\n",
    "\n",
    "# Step 3: Convert to DataFrame\n",
    "df = pd.DataFrame(truncated_data)\n",
    "\n",
    "df\n",
    "\n"
   ]
  },
  {
   "cell_type": "code",
   "execution_count": null,
   "id": "b5da5c2e-2523-4590-8fd9-5fd7b764f200",
   "metadata": {},
   "outputs": [],
   "source": [
    "df.to_csv('Table_2_2014_part-2.csv')"
   ]
  },
  {
   "cell_type": "code",
   "execution_count": null,
   "id": "52debf87-73c1-4b37-84c1-2c76e0aa8e1f",
   "metadata": {},
   "outputs": [],
   "source": [
    "df['election_year'].value_counts()"
   ]
  },
  {
   "cell_type": "markdown",
   "id": "76f22f2a-bd35-4dd6-a697-80c2bec17948",
   "metadata": {},
   "source": [
    "### Table 3: Candidate Details"
   ]
  },
  {
   "cell_type": "code",
   "execution_count": null,
   "id": "8284d49b-31c2-4b3c-a1fc-264896613621",
   "metadata": {},
   "outputs": [],
   "source": [
    "url = \"https://www.indiavotes.com/lok-sabha/1977/all-states/6/0\""
   ]
  },
  {
   "cell_type": "code",
   "execution_count": null,
   "id": "a065e2ab-499a-4b3f-b932-a11309c269cc",
   "metadata": {},
   "outputs": [],
   "source": [
    "driver= webdriver.Chrome()\n",
    "driver.maximize_window()"
   ]
  },
  {
   "cell_type": "code",
   "execution_count": null,
   "id": "e330aa7e-fdb2-46e4-9a6d-3b0651667be4",
   "metadata": {},
   "outputs": [],
   "source": [
    "driver.get(url)"
   ]
  },
  {
   "cell_type": "code",
   "execution_count": null,
   "id": "19eac646-a8be-417e-b99d-45bfc846023a",
   "metadata": {},
   "outputs": [],
   "source": [
    "election_year = []\n",
    "pc_name = []\n",
    "pc_no = []\n",
    "position = []\n",
    "Candidate_Name = []\n",
    "Votes = []\n",
    "Votes_Percentage = []\n",
    "Party = []"
   ]
  },
  {
   "cell_type": "code",
   "execution_count": null,
   "id": "503f67d9-81c2-4d36-a707-006068f9f2ca",
   "metadata": {},
   "outputs": [],
   "source": [
    "# Defining the year range for which we are targeting\n",
    "\n",
    "years_range = [1977, 1980, 1984, 1989, 1991, 1996, 1998, 1999, 2004, 2009, 2014,2019,2024]"
   ]
  },
  {
   "cell_type": "code",
   "execution_count": null,
   "id": "96306e79-dd15-465f-85a2-da3c0bf5ba37",
   "metadata": {},
   "outputs": [],
   "source": [
    "\n",
    "years_counter = 12\n",
    "wait = WebDriverWait(driver, 10)  # Set the maximum wait time to 10 seconds\n",
    "\n",
    "for i in range(18, 19, 1):\n",
    "    url = f\"https://www.indiavotes.com/lok-sabha/1977/all-states/{i}/0\"\n",
    "    driver.get(url)\n",
    "    \n",
    "    # Wait for the table rows to load\n",
    "    number_constituency = wait.until(EC.presence_of_all_elements_located((By.XPATH, \"/html/body/div[2]/div[2]/div/div[9]/div/table/tbody/tr/td[1]\")))\n",
    "\n",
    "    print(len(number_constituency))\n",
    "    for j in range(487, len(number_constituency) + 1, 1):\n",
    "        try:\n",
    "            constituency_link = wait.until(EC.presence_of_element_located(\n",
    "                (By.XPATH, f\"/html/body/div[2]/div[2]/div/div[9]/div/table/tbody/tr[{j}]/td[2]/a\"))).get_attribute(\"href\")\n",
    "\n",
    "            temp_pc_name = wait.until(EC.presence_of_element_located(\n",
    "                (By.XPATH, f\"/html/body/div[2]/div[2]/div/div[9]/div/table/tbody/tr[{j}]/td[2]\"))).text\n",
    "\n",
    "            temp_pc_no = wait.until(EC.presence_of_element_located(\n",
    "                (By.XPATH, f\"/html/body/div[2]/div[2]/div/div[9]/div/table/tbody/tr[{j}]/td[3]\"))).text\n",
    "\n",
    "            print(temp_pc_name)\n",
    "\n",
    "            driver.get(constituency_link)\n",
    "\n",
    "            # Wait for the candidate list to load\n",
    "            wait.until(EC.presence_of_element_located((By.XPATH, \"/html/body/div[2]/div[2]/div/div[5]/ul/li[2]\")))\n",
    "\n",
    "            no_of_candidates = wait.until(EC.presence_of_all_elements_located(\n",
    "                (By.XPATH, \"/html/body/div[2]/div[2]/div/div[6]/div/table/tbody/tr/td[2]\")))\n",
    "\n",
    "            for candidate in range(1, len(no_of_candidates) + 1, 1):\n",
    "                try:\n",
    "                    election_year.append(years_range[years_counter])\n",
    "                    pc_name.append(temp_pc_name)\n",
    "                    pc_no.append(temp_pc_no)\n",
    "\n",
    "                \n",
    "\n",
    "                    position.append(driver.find_element(\n",
    "                        By.XPATH, f\"/html/body/div[2]/div[2]/div/div[6]/div/table/tbody/tr[{candidate}]/td[2]\").text)\n",
    "\n",
    "                    Candidate_Name.append(driver.find_element(\n",
    "                        By.XPATH, f\"/html/body/div[2]/div[2]/div/div[6]/div/table/tbody/tr[{candidate}]/td[3]\").text)\n",
    "\n",
    "                    Votes.append(driver.find_element(\n",
    "                        By.XPATH, f\"/html/body/div[2]/div[2]/div/div[6]/div/table/tbody/tr[{candidate}]/td[4]\").text)\n",
    "\n",
    "                    Votes_Percentage.append(driver.find_element(\n",
    "                        By.XPATH, f\"/html/body/div[2]/div[2]/div/div[6]/div/table/tbody/tr[{candidate}]/td[5]\").text)\n",
    "\n",
    "                    Party.append(driver.find_element(\n",
    "                        By.XPATH, f\"/html/body/div[2]/div[2]/div/div[6]/div/table/tbody/tr[{candidate}]/td[6]\").text)\n",
    "\n",
    "                except Exception as e:\n",
    "                    print(f\"Error processing candidate data: {e}\")\n",
    "                    continue\n",
    "\n",
    "            # Go back to the main page\n",
    "            driver.back()\n",
    "            time.sleep(random.uniform(1, 3))  # Random delay to avoid detection\n",
    "\n",
    "        except Exception as e:\n",
    "            print(f\"Error processing constituency: {e}\")\n",
    "            continue\n",
    "\n",
    "    years_counter += 1"
   ]
  },
  {
   "cell_type": "code",
   "execution_count": null,
   "id": "b360c6c1-d5a8-4d2a-9d54-25491ee564db",
   "metadata": {},
   "outputs": [],
   "source": [
    "print(\"election_year =\", election_year)\n",
    "print(\"pc_name =\", pc_name)\n",
    "print(\"pc_no =\", pc_no)\n",
    "print(\"position =\", position)\n",
    "print(\"Candidate_Name =\", Candidate_Name)\n",
    "print(\"Votes =\", Votes)\n",
    "print(\"Votes_Percentage =\", Votes_Percentage)\n",
    "print(\"Party =\", Party)"
   ]
  },
  {
   "cell_type": "code",
   "execution_count": null,
   "id": "9df337e0-6cbd-4fc5-b6ef-3dcb8d98c170",
   "metadata": {},
   "outputs": [],
   "source": [
    "len(no_of_candidates)"
   ]
  },
  {
   "cell_type": "code",
   "execution_count": null,
   "id": "50f94ee4-5743-4289-adaf-30bfb6dc6052",
   "metadata": {},
   "outputs": [],
   "source": [
    "data = {\n",
    "    \"election_year\": election_year,\n",
    "    \"pc_name\": pc_name,\n",
    "    \"pc_no\": pc_no,\n",
    "    \"position\": position,\n",
    "    \"Candidate_Name\": Candidate_Name,\n",
    "    \"Votes\": Votes,\n",
    "    \"Votes_Percentage\": Votes_Percentage,\n",
    "    \"Party\": Party\n",
    "}"
   ]
  },
  {
   "cell_type": "code",
   "execution_count": null,
   "id": "fca16a33-c103-43e0-aa07-c570597aa22e",
   "metadata": {},
   "outputs": [],
   "source": [
    "\n",
    "# Print the length of each list in the dictionary\n",
    "for key, value in data.items():\n",
    "    print(f\"The length of the list for '{key}' is {len(value)}\")\n"
   ]
  },
  {
   "cell_type": "code",
   "execution_count": null,
   "id": "303c2421-097b-4972-812c-5cd3bdcf15a9",
   "metadata": {},
   "outputs": [],
   "source": [
    "min_length = min(len(value) for value in data.values())\n",
    "\n",
    "# Step 2: Truncate all lists to the minimum length\n",
    "truncated_data = {key: value[:min_length] for key, value in data.items()}\n",
    "\n",
    "# Step 3: Convert to DataFrame\n",
    "df = pd.DataFrame(truncated_data)\n",
    "\n",
    "df"
   ]
  },
  {
   "cell_type": "code",
   "execution_count": null,
   "id": "e4ae9c7b-46e6-4120-a900-eff307226df8",
   "metadata": {},
   "outputs": [],
   "source": [
    "df.to_csv('Table_3_2024_part_3.csv')"
   ]
  }
 ],
 "metadata": {
  "kernelspec": {
   "display_name": "Python 3 (ipykernel)",
   "language": "python",
   "name": "python3"
  },
  "language_info": {
   "codemirror_mode": {
    "name": "ipython",
    "version": 3
   },
   "file_extension": ".py",
   "mimetype": "text/x-python",
   "name": "python",
   "nbconvert_exporter": "python",
   "pygments_lexer": "ipython3",
   "version": "3.11.7"
  }
 },
 "nbformat": 4,
 "nbformat_minor": 5
}
